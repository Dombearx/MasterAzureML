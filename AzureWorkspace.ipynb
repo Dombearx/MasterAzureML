{
 "cells": [
  {
   "cell_type": "code",
   "execution_count": 2,
   "metadata": {},
   "outputs": [
    {
     "name": "stdout",
     "output_type": "stream",
     "text": [
      "[\n",
      "  {\n",
      "    \"cloudName\": \"AzureCloud\",\n",
      "    \"homeTenantId\": \"c264fde8-d918-49b1-854d-686f0f6f5a65\",\n",
      "    \"id\": \"5a2c5da4-c680-4b4b-98d9-d14a7b2df679\",\n",
      "    \"isDefault\": true,\n",
      "    \"managedByTenants\": [],\n",
      "    \"name\": \"Azure subscription 1\",\n",
      "    \"state\": \"Enabled\",\n",
      "    \"tenantId\": \"c264fde8-d918-49b1-854d-686f0f6f5a65\",\n",
      "    \"user\": {\n",
      "      \"name\": \"dominik.doberski@protonmail.com\",\n",
      "      \"type\": \"user\"\n",
      "    }\n",
      "  }\n",
      "]\n"
     ]
    },
    {
     "name": "stderr",
     "output_type": "stream",
     "text": [
      "WARNING: A web browser has been opened at https://login.microsoftonline.com/organizations/oauth2/v2.0/authorize. Please continue the login in the web browser. If no web browser is available or if the web browser fails to open, use device code flow with `az login --use-device-code`.\n"
     ]
    }
   ],
   "source": [
    "!az login"
   ]
  },
  {
   "cell_type": "code",
   "execution_count": 3,
   "metadata": {},
   "outputs": [
    {
     "name": "stdout",
     "output_type": "stream",
     "text": [
      "EnvironmentName    HomeTenantId                          IsDefault    Name                  State    TenantId\n",
      "-----------------  ------------------------------------  -----------  --------------------  -------  ------------------------------------\n",
      "AzureCloud         c264fde8-d918-49b1-854d-686f0f6f5a65  True         Azure subscription 1  Enabled  c264fde8-d918-49b1-854d-686f0f6f5a65\n"
     ]
    }
   ],
   "source": [
    "!az account show --output table"
   ]
  },
  {
   "cell_type": "code",
   "execution_count": 4,
   "metadata": {},
   "outputs": [
    {
     "name": "stdout",
     "output_type": "stream",
     "text": [
      "[]\n"
     ]
    }
   ],
   "source": [
    "!az extension list"
   ]
  },
  {
   "cell_type": "code",
   "execution_count": 5,
   "metadata": {},
   "outputs": [],
   "source": [
    "!az extension add -n ml"
   ]
  },
  {
   "cell_type": "code",
   "execution_count": 6,
   "metadata": {},
   "outputs": [
    {
     "name": "stdout",
     "output_type": "stream",
     "text": [
      "[\n",
      "  {\n",
      "    \"experimental\": false,\n",
      "    \"extensionType\": \"whl\",\n",
      "    \"name\": \"ml\",\n",
      "    \"path\": \"C:\\\\Users\\\\Domin\\\\.azure\\\\cliextensions\\\\ml\",\n",
      "    \"preview\": false,\n",
      "    \"version\": \"2.7.1\"\n",
      "  }\n",
      "]\n"
     ]
    }
   ],
   "source": [
    "!az extension list"
   ]
  },
  {
   "cell_type": "code",
   "execution_count": 7,
   "metadata": {},
   "outputs": [
    {
     "name": "stdout",
     "output_type": "stream",
     "text": [
      "\n",
      "Group\n",
      "    az ml : Manage Azure Machine Learning resources with the Azure CLI ML extension v2.\n",
      "        Install Azure CLI ML extension v2\n",
      "        https://docs.microsoft.com/azure/machine-learning/how-to-configure-cli.\n",
      "\n",
      "Subgroups:\n",
      "    batch-deployment     : Manage Azure ML batch deployments.\n",
      "    batch-endpoint       : Manage Azure ML batch endpoints.\n",
      "    component            : Manage Azure ML components.\n",
      "    compute              : Manage Azure ML compute resources.\n",
      "    connection [Preview] : Manage Azure ML workspace connection.\n",
      "    data                 : Manage Azure ML data assets.\n",
      "    datastore            : Manage Azure ML datastores.\n",
      "    environment          : Manage Azure ML environments.\n",
      "    job                  : Manage Azure ML jobs.\n",
      "    model                : Manage Azure ML models.\n",
      "    online-deployment    : Manage Azure ML online deployments.\n",
      "    online-endpoint      : Manage Azure ML online endpoints.\n",
      "    schedule             : Manage Azure ML schedule resources.\n",
      "    workspace            : Manage Azure ML workspaces.\n",
      "\n",
      "To search AI knowledge base for examples, use: az find \"az ml\"\n",
      "\n"
     ]
    },
    {
     "name": "stderr",
     "output_type": "stream",
     "text": [
      "WARNING: You have 1 updates available.\n",
      "WARNING: \n",
      "Please let us know how we are doing: https://aka.ms/azureclihats\n"
     ]
    }
   ],
   "source": [
    "!az ml -h"
   ]
  },
  {
   "cell_type": "code",
   "execution_count": 8,
   "metadata": {},
   "outputs": [
    {
     "name": "stdout",
     "output_type": "stream",
     "text": [
      "\n",
      "Command\n",
      "    az ml workspace create : Create a workspace.\n",
      "        When a workspace is created, several Azure resources that will be used by Azure ML also get\n",
      "        created by default: Azure Storage, Azure Container Registry, Azure Key Vault, and Azure\n",
      "        Application Insights. You can instead use existing Azure resource instances for those when\n",
      "        creating the workspace by specifying the resource IDs in the workspace configuration YAML\n",
      "        file.\n",
      "\n",
      "Arguments\n",
      "    --resource-group -g  [Required] : Name of resource group. You can configure the default group\n",
      "                                      using `az configure --defaults group=<name>`.\n",
      "    --application-insights          : ARM id of the application insights associated with this\n",
      "                                      workspace.\n",
      "    --container-registry            : ARM id of the container registry associated with this\n",
      "                                      workspace.\n",
      "    --description                   : Description of the Azure ML workspace.\n",
      "    --display-name                  : Display name for the workspace.\n",
      "    --file -f                       : Local path to the YAML file containing the Azure ML workspace\n",
      "                                      specification. The YAML reference docs for workspace can be\n",
      "                                      found at: https://aka.ms/ml-cli-v2-workspace-yaml-reference.\n",
      "    --image-build-compute -i        : The name of the compute target to use for building environment\n",
      "                                      Docker images when the container registry is behind a VNet.\n",
      "    --location -l                   : The location to be used for the new workspace.\n",
      "    --name -n                       : Name of the Azure ML workspace.\n",
      "    --no-wait                       : Do not wait for workspace creation to finish.\n",
      "    --public-network-access         : Allow public endpoint connectivity when a workspace is private\n",
      "                                      link enabled.\n",
      "    --set                           : Update an object by specifying a property path and value to\n",
      "                                      set. Example: --set property1.property2=<value>.\n",
      "    --tags                          : Space-separated key-value pairs for the tags of the object.\n",
      "    --update-dependent-resources -u : Specifying --update_dependent_resources, gives your consent to\n",
      "                                      update the workspace dependent resources. Updating the\n",
      "                                      workspace-attached Azure Container Registry or Application\n",
      "                                      Insights resource may break lineage of previous jobs, deployed\n",
      "                                      inference endpoints, or your ability to rerun earlier jobs in\n",
      "                                      this workspace.\n",
      "\n",
      "Global Arguments\n",
      "    --debug                         : Increase logging verbosity to show all debug logs.\n",
      "    --help -h                       : Show this help message and exit.\n",
      "    --only-show-errors              : Only show errors, suppressing warnings.\n",
      "    --output -o                     : Output format.  Allowed values: json, jsonc, none, table, tsv,\n",
      "                                      yaml, yamlc.  Default: json.\n",
      "    --query                         : JMESPath query string. See http://jmespath.org/ for more\n",
      "                                      information and examples.\n",
      "    --subscription                  : Name or ID of subscription. You can configure the default\n",
      "                                      subscription using `az account set -s NAME_OR_ID`.\n",
      "    --verbose                       : Increase logging verbosity. Use --debug for full debug logs.\n",
      "\n",
      "Examples\n",
      "    Create a workspace from a YAML specification file.\n",
      "        az ml workspace create --file workspace.yml --resource-group my-resource-group\n",
      "\n",
      "To search AI knowledge base for examples, use: az find \"az ml workspace create\"\n",
      "\n"
     ]
    },
    {
     "name": "stderr",
     "output_type": "stream",
     "text": [
      "WARNING: This command is from the following extension: ml\n",
      "Please let us know how we are doing: https://aka.ms/azureclihats\n"
     ]
    }
   ],
   "source": [
    "!az ml workspace create -h"
   ]
  },
  {
   "cell_type": "code",
   "execution_count": 9,
   "metadata": {},
   "outputs": [
    {
     "name": "stdout",
     "output_type": "stream",
     "text": [
      "DisplayName               Name                 RegionalDisplayName\n",
      "------------------------  -------------------  -------------------------------------\n",
      "East US                   eastus               (US) East US\n",
      "East US 2                 eastus2              (US) East US 2\n",
      "South Central US          southcentralus       (US) South Central US\n",
      "West US 2                 westus2              (US) West US 2\n",
      "West US 3                 westus3              (US) West US 3\n",
      "Australia East            australiaeast        (Asia Pacific) Australia East\n",
      "Southeast Asia            southeastasia        (Asia Pacific) Southeast Asia\n",
      "North Europe              northeurope          (Europe) North Europe\n",
      "Sweden Central            swedencentral        (Europe) Sweden Central\n",
      "UK South                  uksouth              (Europe) UK South\n",
      "West Europe               westeurope           (Europe) West Europe\n",
      "Central US                centralus            (US) Central US\n",
      "South Africa North        southafricanorth     (Africa) South Africa North\n",
      "Central India             centralindia         (Asia Pacific) Central India\n",
      "East Asia                 eastasia             (Asia Pacific) East Asia\n",
      "Japan East                japaneast            (Asia Pacific) Japan East\n",
      "Korea Central             koreacentral         (Asia Pacific) Korea Central\n",
      "Canada Central            canadacentral        (Canada) Canada Central\n",
      "France Central            francecentral        (Europe) France Central\n",
      "Germany West Central      germanywestcentral   (Europe) Germany West Central\n",
      "Norway East               norwayeast           (Europe) Norway East\n",
      "Switzerland North         switzerlandnorth     (Europe) Switzerland North\n",
      "UAE North                 uaenorth             (Middle East) UAE North\n",
      "Brazil South              brazilsouth          (South America) Brazil South\n",
      "East US 2 EUAP            eastus2euap          (US) East US 2 EUAP\n",
      "Qatar Central             qatarcentral         (Middle East) Qatar Central\n",
      "Central US (Stage)        centralusstage       (US) Central US (Stage)\n",
      "East US (Stage)           eastusstage          (US) East US (Stage)\n",
      "East US 2 (Stage)         eastus2stage         (US) East US 2 (Stage)\n",
      "North Central US (Stage)  northcentralusstage  (US) North Central US (Stage)\n",
      "South Central US (Stage)  southcentralusstage  (US) South Central US (Stage)\n",
      "West US (Stage)           westusstage          (US) West US (Stage)\n",
      "West US 2 (Stage)         westus2stage         (US) West US 2 (Stage)\n",
      "Asia                      asia                 Asia\n",
      "Asia Pacific              asiapacific          Asia Pacific\n",
      "Australia                 australia            Australia\n",
      "Brazil                    brazil               Brazil\n",
      "Canada                    canada               Canada\n",
      "Europe                    europe               Europe\n",
      "France                    france               France\n",
      "Germany                   germany              Germany\n",
      "Global                    global               Global\n",
      "India                     india                India\n",
      "Japan                     japan                Japan\n",
      "Korea                     korea                Korea\n",
      "Norway                    norway               Norway\n",
      "Singapore                 singapore            Singapore\n",
      "South Africa              southafrica          South Africa\n",
      "Switzerland               switzerland          Switzerland\n",
      "United Arab Emirates      uae                  United Arab Emirates\n",
      "United Kingdom            uk                   United Kingdom\n",
      "United States             unitedstates         United States\n",
      "United States EUAP        unitedstateseuap     United States EUAP\n",
      "East Asia (Stage)         eastasiastage        (Asia Pacific) East Asia (Stage)\n",
      "Southeast Asia (Stage)    southeastasiastage   (Asia Pacific) Southeast Asia (Stage)\n",
      "North Central US          northcentralus       (US) North Central US\n",
      "West US                   westus               (US) West US\n",
      "Jio India West            jioindiawest         (Asia Pacific) Jio India West\n",
      "Central US EUAP           centraluseuap        (US) Central US EUAP\n",
      "West Central US           westcentralus        (US) West Central US\n",
      "South Africa West         southafricawest      (Africa) South Africa West\n",
      "Australia Central         australiacentral     (Asia Pacific) Australia Central\n",
      "Australia Central 2       australiacentral2    (Asia Pacific) Australia Central 2\n",
      "Australia Southeast       australiasoutheast   (Asia Pacific) Australia Southeast\n",
      "Japan West                japanwest            (Asia Pacific) Japan West\n",
      "Jio India Central         jioindiacentral      (Asia Pacific) Jio India Central\n",
      "Korea South               koreasouth           (Asia Pacific) Korea South\n",
      "South India               southindia           (Asia Pacific) South India\n",
      "West India                westindia            (Asia Pacific) West India\n",
      "Canada East               canadaeast           (Canada) Canada East\n",
      "France South              francesouth          (Europe) France South\n",
      "Germany North             germanynorth         (Europe) Germany North\n",
      "Norway West               norwaywest           (Europe) Norway West\n",
      "Switzerland West          switzerlandwest      (Europe) Switzerland West\n",
      "UK West                   ukwest               (Europe) UK West\n",
      "UAE Central               uaecentral           (Middle East) UAE Central\n",
      "Brazil Southeast          brazilsoutheast      (South America) Brazil Southeast\n"
     ]
    }
   ],
   "source": [
    "!az account list-locations -o table"
   ]
  },
  {
   "cell_type": "code",
   "execution_count": 10,
   "metadata": {},
   "outputs": [
    {
     "name": "stdout",
     "output_type": "stream",
     "text": [
      "{\n",
      "  \"id\": \"/subscriptions/5a2c5da4-c680-4b4b-98d9-d14a7b2df679/resourceGroups/mldemo\",\n",
      "  \"location\": \"germanywestcentral\",\n",
      "  \"managedBy\": null,\n",
      "  \"name\": \"mldemo\",\n",
      "  \"properties\": {\n",
      "    \"provisioningState\": \"Succeeded\"\n",
      "  },\n",
      "  \"tags\": null,\n",
      "  \"type\": \"Microsoft.Resources/resourceGroups\"\n",
      "}\n"
     ]
    }
   ],
   "source": [
    "!az group create -n mldemo -l germanywestcentral"
   ]
  },
  {
   "cell_type": "code",
   "execution_count": 13,
   "metadata": {},
   "outputs": [
    {
     "name": "stdout",
     "output_type": "stream",
     "text": [
      "{\n",
      "  \"application_insights\": \"/subscriptions/5a2c5da4-c680-4b4b-98d9-d14a7b2df679/resourceGroups/mldemo/providers/Microsoft.insights/components/mldemowsinsightsb419919e\",\n",
      "  \"description\": \"mldemows\",\n",
      "  \"discovery_url\": \"https://germanywestcentral.api.azureml.ms/discovery\",\n",
      "  \"display_name\": \"mldemows\",\n",
      "  \"hbi_workspace\": false,\n",
      "  \"id\": \"/subscriptions/5a2c5da4-c680-4b4b-98d9-d14a7b2df679/resourceGroups/mldemo/providers/Microsoft.MachineLearningServices/workspaces/mldemows\",\n",
      "  \"key_vault\": \"/subscriptions/5a2c5da4-c680-4b4b-98d9-d14a7b2df679/resourceGroups/mldemo/providers/Microsoft.Keyvault/vaults/mldemowskeyvault6feaa823\",\n",
      "  \"location\": \"germanywestcentral\",\n",
      "  \"mlflow_tracking_uri\": \"azureml://germanywestcentral.api.azureml.ms/mlflow/v1.0/subscriptions/5a2c5da4-c680-4b4b-98d9-d14a7b2df679/resourceGroups/mldemo/providers/Microsoft.MachineLearningServices/workspaces/mldemows\",\n",
      "  \"name\": \"mldemows\",\n",
      "  \"public_network_access\": \"Enabled\",\n",
      "  \"resourceGroup\": \"mldemo\",\n",
      "  \"resource_group\": \"mldemo\",\n",
      "  \"storage_account\": \"/subscriptions/5a2c5da4-c680-4b4b-98d9-d14a7b2df679/resourceGroups/mldemo/providers/Microsoft.Storage/storageAccounts/mldemowsstorage79bbc216a\",\n",
      "  \"tags\": {\n",
      "    \"createdByToolkit\": \"cli-v2-2.7.1\"\n",
      "  }\n",
      "}\n"
     ]
    },
    {
     "name": "stderr",
     "output_type": "stream",
     "text": [
      "The deployment request mldemows-6349999 was accepted. ARM deployment URI for reference: \n",
      "https://portal.azure.com//#blade/HubsExtension/DeploymentDetailsBlade/overview/id/%2Fsubscriptions%2F5a2c5da4-c680-4b4b-98d9-d14a7b2df679%2FresourceGroups%2Fmldemo%2Fproviders%2FMicrosoft.Resources%2Fdeployments%2Fmldemows-6349999\n",
      "Creating Storage Account: (mldemowsstorage79bbc216a  ) ...  Done (24s)\n",
      "Creating KeyVault: (mldemowskeyvault6feaa823  )  Done (19s)\n",
      "Creating AppInsights: (mldemowsinsightsb419919e  )  Done (3s)\n",
      "Creating workspace: (mldemows  ) ..  Done (19s)\n",
      "Total time : 44s\n"
     ]
    }
   ],
   "source": [
    "!az ml workspace create -n mldemows -g mldemo -l germanywestcentral"
   ]
  },
  {
   "cell_type": "code",
   "execution_count": 16,
   "metadata": {},
   "outputs": [
    {
     "name": "stdout",
     "output_type": "stream",
     "text": [
      "{\n",
      "  \"application_insights\": \"/subscriptions/5a2c5da4-c680-4b4b-98d9-d14a7b2df679/resourceGroups/mldemo/providers/Microsoft.insights/components/mldemowsinsightsb419919e\",\n",
      "  \"description\": \"mldemows\",\n",
      "  \"discovery_url\": \"https://germanywestcentral.api.azureml.ms/discovery\",\n",
      "  \"display_name\": \"mldemows\",\n",
      "  \"hbi_workspace\": false,\n",
      "  \"id\": \"/subscriptions/5a2c5da4-c680-4b4b-98d9-d14a7b2df679/resourceGroups/mldemo/providers/Microsoft.MachineLearningServices/workspaces/mldemows\",\n",
      "  \"key_vault\": \"/subscriptions/5a2c5da4-c680-4b4b-98d9-d14a7b2df679/resourceGroups/mldemo/providers/Microsoft.Keyvault/vaults/mldemowskeyvault6feaa823\",\n",
      "  \"location\": \"germanywestcentral\",\n",
      "  \"mlflow_tracking_uri\": \"azureml://germanywestcentral.api.azureml.ms/mlflow/v1.0/subscriptions/5a2c5da4-c680-4b4b-98d9-d14a7b2df679/resourceGroups/mldemo/providers/Microsoft.MachineLearningServices/workspaces/mldemows\",\n",
      "  \"name\": \"mldemows\",\n",
      "  \"public_network_access\": \"Enabled\",\n",
      "  \"resourceGroup\": \"mldemo\",\n",
      "  \"resource_group\": \"mldemo\",\n",
      "  \"storage_account\": \"/subscriptions/5a2c5da4-c680-4b4b-98d9-d14a7b2df679/resourceGroups/mldemo/providers/Microsoft.Storage/storageAccounts/mldemowsstorage79bbc216a\",\n",
      "  \"tags\": {\n",
      "    \"createdByToolkit\": \"cli-v2-2.7.1\"\n",
      "  }\n",
      "}\n"
     ]
    }
   ],
   "source": [
    "!az ml workspace show -g mldemo -n mldemows"
   ]
  },
  {
   "cell_type": "code",
   "execution_count": null,
   "metadata": {},
   "outputs": [],
   "source": []
  },
  {
   "cell_type": "code",
   "execution_count": null,
   "metadata": {},
   "outputs": [],
   "source": []
  }
 ],
 "metadata": {
  "kernelspec": {
   "display_name": "Python 3.10.0 ('.venv': venv)",
   "language": "python",
   "name": "python3"
  },
  "language_info": {
   "codemirror_mode": {
    "name": "ipython",
    "version": 3
   },
   "file_extension": ".py",
   "mimetype": "text/x-python",
   "name": "python",
   "nbconvert_exporter": "python",
   "pygments_lexer": "ipython3",
   "version": "3.10.0"
  },
  "orig_nbformat": 4,
  "vscode": {
   "interpreter": {
    "hash": "dede9200bf183b7f6ee63da8e86922e7bc473a01b47d06d06bb561101f8414f6"
   }
  }
 },
 "nbformat": 4,
 "nbformat_minor": 2
}
