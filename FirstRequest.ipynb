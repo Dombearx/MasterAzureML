{
 "cells": [
  {
   "cell_type": "code",
   "execution_count": 104,
   "outputs": [],
   "source": [
    "import requests\n",
    "import pprint as pp"
   ],
   "metadata": {
    "collapsed": false,
    "pycharm": {
     "name": "#%%\n"
    }
   }
  },
  {
   "cell_type": "code",
   "execution_count": 105,
   "outputs": [],
   "source": [
    "region='eastus'\n",
    "language='en'\n",
    "version='v3.2'\n",
    "key = '551bddb3eeff4c5cb6c653369bb02eb3'\n",
    "url = f\"https://{region}.api.cognitive.microsoft.com\" + f\"/vision/{version}/analyze\""
   ],
   "metadata": {
    "collapsed": false,
    "pycharm": {
     "name": "#%%\n"
    }
   }
  },
  {
   "cell_type": "code",
   "execution_count": 119,
   "outputs": [],
   "source": [
    "def get_image(name):\n",
    "    images = {\n",
    "        \"eiffel_tower\": \"https://external-content.duckduckgo.com/iu/?u=https%3A%2F%2Fc1.staticflickr.com%2F3%2F2928%2F14524780527_3a29d6554e_b.jpg&f=1&nofb=1\",\n",
    "        \"lake\": \"https://external-content.duckduckgo.com/iu/?u=https%3A%2F%2Ftse1.mm.bing.net%2Fth%3Fid%3DOIP.lvE5w4hRIzf18TsKtZOf2QHaD3%26pid%3DApi&f=1\",\n",
    "        \"castle\": \"https://cdn.thecrazytourist.com/wp-content/uploads/2019/02/ccimage-shutterstock_1044976480.jpg\",\n",
    "        \"eagle\": \"https://worldbirds.com/wp-content/uploads/2020/08/eagle-symbolism6.jpg\"\n",
    "    }\n",
    "\n",
    "    return images[name]"
   ],
   "metadata": {
    "collapsed": false,
    "pycharm": {
     "name": "#%%\n"
    }
   }
  },
  {
   "cell_type": "code",
   "execution_count": 124,
   "outputs": [],
   "source": [
    "name = \"castle\""
   ],
   "metadata": {
    "collapsed": false,
    "pycharm": {
     "name": "#%%\n"
    }
   }
  },
  {
   "cell_type": "code",
   "execution_count": 128,
   "outputs": [],
   "source": [
    "params = {\n",
    "'visualFeatures': 'Categories,Tags,Description',\n",
    "'language': language\n",
    "}\n",
    "headers = {\n",
    "'Content-Type': 'application/json',\n",
    "'Ocp-Apim-Subscription-Key': key\n",
    "}\n",
    "payload = {\n",
    "'url': 'https://external-content.duckduckgo.com/iu/?u=https%3A%2F%2Flive.staticflickr.com%2F1178%2F528337946_c30f8f6082_b.jpg&f=1&nofb=1'\n",
    "}"
   ],
   "metadata": {
    "collapsed": false,
    "pycharm": {
     "name": "#%%\n"
    }
   }
  },
  {
   "cell_type": "code",
   "execution_count": 129,
   "outputs": [],
   "source": [
    "response = requests.post(url,\n",
    "    json=payload,\n",
    "    params=params,\n",
    "    headers=headers)\n"
   ],
   "metadata": {
    "collapsed": false,
    "pycharm": {
     "name": "#%%\n"
    }
   }
  },
  {
   "cell_type": "code",
   "execution_count": 130,
   "outputs": [
    {
     "name": "stdout",
     "output_type": "stream",
     "text": [
      "{'categories': [{'name': 'food_', 'score': 0.80859375}],\n",
      " 'description': {'captions': [{'confidence': 0.5510690212249756,\n",
      "                               'text': 'a pile of strawberries'}],\n",
      "                 'tags': ['different', 'decorated', 'several']},\n",
      " 'metadata': {'format': 'Jpeg', 'height': 819, 'width': 1024},\n",
      " 'modelVersion': '2021-05-01',\n",
      " 'requestId': '45d4b9d9-cb90-4c0a-8b9d-df047d568304',\n",
      " 'tags': [{'confidence': 0.9835507273674011, 'name': 'natural foods'},\n",
      "          {'confidence': 0.9745022654533386, 'name': 'fruit'},\n",
      "          {'confidence': 0.9630869626998901, 'name': 'strawberries'},\n",
      "          {'confidence': 0.9624122977256775, 'name': 'accessory fruit'},\n",
      "          {'confidence': 0.9592124223709106, 'name': 'berry'},\n",
      "          {'confidence': 0.948275625705719, 'name': 'alpine strawberry'},\n",
      "          {'confidence': 0.9312814474105835, 'name': 'strawberry'},\n",
      "          {'confidence': 0.9278970956802368, 'name': 'superfood'},\n",
      "          {'confidence': 0.9246098399162292, 'name': 'virginia strawberry'},\n",
      "          {'confidence': 0.9164376258850098, 'name': 'frutti di bosco'},\n",
      "          {'confidence': 0.9139958620071411, 'name': 'produce'},\n",
      "          {'confidence': 0.8958033323287964, 'name': 'diet food'},\n",
      "          {'confidence': 0.8815028667449951, 'name': 'local food'},\n",
      "          {'confidence': 0.8666563034057617, 'name': 'vegan nutrition'},\n",
      "          {'confidence': 0.8422245383262634, 'name': 'superfruit'},\n",
      "          {'confidence': 0.7472083568572998, 'name': 'food'},\n",
      "          {'confidence': 0.6820147037506104, 'name': 'red'},\n",
      "          {'confidence': 0.5690560340881348, 'name': 'basket'}]}\n"
     ]
    }
   ],
   "source": [
    "result = response.json()\n",
    "pp.pprint(result)"
   ],
   "metadata": {
    "collapsed": false,
    "pycharm": {
     "name": "#%%\n"
    }
   }
  },
  {
   "cell_type": "code",
   "execution_count": null,
   "outputs": [],
   "source": [],
   "metadata": {
    "collapsed": false,
    "pycharm": {
     "name": "#%%\n"
    }
   }
  },
  {
   "cell_type": "code",
   "execution_count": null,
   "outputs": [],
   "source": [],
   "metadata": {
    "collapsed": false,
    "pycharm": {
     "name": "#%%\n"
    }
   }
  },
  {
   "cell_type": "code",
   "execution_count": null,
   "outputs": [],
   "source": [],
   "metadata": {
    "collapsed": false,
    "pycharm": {
     "name": "#%%\n"
    }
   }
  },
  {
   "cell_type": "code",
   "execution_count": null,
   "outputs": [],
   "source": [],
   "metadata": {
    "collapsed": false,
    "pycharm": {
     "name": "#%%\n"
    }
   }
  },
  {
   "cell_type": "code",
   "execution_count": null,
   "outputs": [],
   "source": [],
   "metadata": {
    "collapsed": false,
    "pycharm": {
     "name": "#%%\n"
    }
   }
  },
  {
   "cell_type": "code",
   "execution_count": null,
   "outputs": [],
   "source": [],
   "metadata": {
    "collapsed": false,
    "pycharm": {
     "name": "#%%\n"
    }
   }
  },
  {
   "cell_type": "code",
   "execution_count": null,
   "outputs": [],
   "source": [],
   "metadata": {
    "collapsed": false,
    "pycharm": {
     "name": "#%%\n"
    }
   }
  },
  {
   "cell_type": "code",
   "execution_count": 84,
   "outputs": [
    {
     "data": {
      "text/plain": "{'Content-Length': '0', 'Operation-Location': 'https://eastus.api.cognitive.microsoft.com/vision/v3.2/read/analyzeResults/0a748c8f-b5c5-4ba2-8a0d-e381886555c8', 'x-envoy-upstream-service-time': '492', 'CSP-Billing-Usage': 'CognitiveServices.ComputerVision.Transaction=1', 'apim-request-id': '0a748c8f-b5c5-4ba2-8a0d-e381886555c8', 'Strict-Transport-Security': 'max-age=31536000; includeSubDomains; preload', 'x-content-type-options': 'nosniff', 'Date': 'Wed, 03 Aug 2022 17:32:47 GMT'}"
     },
     "execution_count": 84,
     "metadata": {},
     "output_type": "execute_result"
    }
   ],
   "source": [
    "response.headers"
   ],
   "metadata": {
    "collapsed": false,
    "pycharm": {
     "name": "#%%\n"
    }
   }
  },
  {
   "cell_type": "code",
   "execution_count": 86,
   "outputs": [
    {
     "data": {
      "text/plain": "'0a748c8f-b5c5-4ba2-8a0d-e381886555c8'"
     },
     "execution_count": 86,
     "metadata": {},
     "output_type": "execute_result"
    }
   ],
   "source": [
    "response.headers[\"apim-request-id\"]"
   ],
   "metadata": {
    "collapsed": false,
    "pycharm": {
     "name": "#%%\n"
    }
   }
  },
  {
   "cell_type": "code",
   "execution_count": 90,
   "outputs": [],
   "source": [
    "headers = {\n",
    "'Host': f\"{region}.api.cognitive.microsoft.com\",\n",
    "'Content-Type': 'application/json',\n",
    "'Ocp-Apim-Subscription-Key': key,\n",
    "}\n",
    "\n",
    "url = response.headers[\"Operation-Location\"]"
   ],
   "metadata": {
    "collapsed": false,
    "pycharm": {
     "name": "#%%\n"
    }
   }
  },
  {
   "cell_type": "code",
   "execution_count": 91,
   "outputs": [],
   "source": [
    "response2 = requests.get(url, headers=headers)"
   ],
   "metadata": {
    "collapsed": false,
    "pycharm": {
     "name": "#%%\n"
    }
   }
  },
  {
   "cell_type": "code",
   "execution_count": 92,
   "outputs": [
    {
     "data": {
      "text/plain": "<Response [200]>"
     },
     "execution_count": 92,
     "metadata": {},
     "output_type": "execute_result"
    }
   ],
   "source": [
    "response2"
   ],
   "metadata": {
    "collapsed": false,
    "pycharm": {
     "name": "#%%\n"
    }
   }
  },
  {
   "cell_type": "code",
   "execution_count": 94,
   "outputs": [
    {
     "name": "stdout",
     "output_type": "stream",
     "text": [
      "{'status': 'succeeded', 'createdDateTime': '2022-08-03T17:32:48Z', 'lastUpdatedDateTime': '2022-08-03T17:32:49Z', 'analyzeResult': {'version': '3.2.0', 'modelVersion': '2022-04-30', 'readResults': [{'page': 1, 'angle': 0, 'width': 683, 'height': 1024, 'unit': 'pixel', 'language': 'en', 'lines': []}]}}\n"
     ]
    }
   ],
   "source": [
    "result = response2.json()\n",
    "print(result)"
   ],
   "metadata": {
    "collapsed": false,
    "pycharm": {
     "name": "#%%\n"
    }
   }
  },
  {
   "cell_type": "code",
   "execution_count": 74,
   "outputs": [],
   "source": [],
   "metadata": {
    "collapsed": false,
    "pycharm": {
     "name": "#%%\n"
    }
   }
  }
 ],
 "metadata": {
  "kernelspec": {
   "display_name": "Python 3",
   "language": "python",
   "name": "python3"
  },
  "language_info": {
   "codemirror_mode": {
    "name": "ipython",
    "version": 2
   },
   "file_extension": ".py",
   "mimetype": "text/x-python",
   "name": "python",
   "nbconvert_exporter": "python",
   "pygments_lexer": "ipython2",
   "version": "2.7.6"
  }
 },
 "nbformat": 4,
 "nbformat_minor": 0
}